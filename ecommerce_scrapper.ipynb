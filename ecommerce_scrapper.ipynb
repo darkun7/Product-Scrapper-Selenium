{
  "nbformat": 4,
  "nbformat_minor": 0,
  "metadata": {
    "colab": {
      "name": "ecommerce_scrapper.ipynb",
      "provenance": [],
      "collapsed_sections": [],
      "authorship_tag": "ABX9TyP7YZ9eMG0/44UE9n4mcQY7",
      "include_colab_link": true
    },
    "kernelspec": {
      "name": "python3",
      "display_name": "Python 3"
    },
    "language_info": {
      "name": "python"
    }
  },
  "cells": [
    {
      "cell_type": "markdown",
      "metadata": {
        "id": "view-in-github",
        "colab_type": "text"
      },
      "source": [
        "<a href=\"https://colab.research.google.com/github/darkun7/Product-Scrapper-Selenium/blob/main/ecommerce_scrapper.ipynb\" target=\"_parent\"><img src=\"https://colab.research.google.com/assets/colab-badge.svg\" alt=\"Open In Colab\"/></a>"
      ]
    },
    {
      "cell_type": "code",
      "metadata": {
        "colab": {
          "base_uri": "https://localhost:8080/"
        },
        "id": "gwiAUI8P6SA_",
        "outputId": "32a999bf-ea27-4385-b452-6354ef074eac"
      },
      "source": [
        "!apt-get update\n",
        "!apt install chromium-chromedriver\n",
        "%pip install selenium\n",
        "!cp /usr/lib/chromium-browser/chromedriver /usr/bin\n",
        "import sys\n",
        "sys.path.insert(0,'/usr/lib/chromium-browser/chromedriver')\n",
        "from selenium import webdriver\n",
        "\n",
        "from selenium.webdriver import Chrome\n",
        "from selenium.webdriver.common.by import By\n",
        "from selenium.webdriver.common.keys import Keys\n",
        "from selenium.webdriver.support.ui import WebDriverWait\n",
        "from selenium.webdriver.support import expected_conditions as EC\n",
        "from selenium.common import exceptions\n",
        "from selenium.common.exceptions import ElementNotVisibleException"
      ],
      "execution_count": 13,
      "outputs": [
        {
          "output_type": "stream",
          "text": [
            "\r0% [Working]\r            \rHit:1 http://security.ubuntu.com/ubuntu bionic-security InRelease\n",
            "Hit:2 https://cloud.r-project.org/bin/linux/ubuntu bionic-cran40/ InRelease\n",
            "Ign:3 https://developer.download.nvidia.com/compute/cuda/repos/ubuntu1804/x86_64  InRelease\n",
            "Hit:4 http://ppa.launchpad.net/c2d4u.team/c2d4u4.0+/ubuntu bionic InRelease\n",
            "Hit:5 http://archive.ubuntu.com/ubuntu bionic InRelease\n",
            "Ign:6 https://developer.download.nvidia.com/compute/machine-learning/repos/ubuntu1804/x86_64  InRelease\n",
            "Hit:7 https://developer.download.nvidia.com/compute/cuda/repos/ubuntu1804/x86_64  Release\n",
            "Hit:8 https://developer.download.nvidia.com/compute/machine-learning/repos/ubuntu1804/x86_64  Release\n",
            "Hit:9 http://archive.ubuntu.com/ubuntu bionic-updates InRelease\n",
            "Hit:10 http://ppa.launchpad.net/cran/libgit2/ubuntu bionic InRelease\n",
            "Hit:11 http://archive.ubuntu.com/ubuntu bionic-backports InRelease\n",
            "Hit:12 http://ppa.launchpad.net/deadsnakes/ppa/ubuntu bionic InRelease\n",
            "Hit:13 http://ppa.launchpad.net/graphics-drivers/ppa/ubuntu bionic InRelease\n",
            "Reading package lists... Done\n",
            "Reading package lists... Done\n",
            "Building dependency tree       \n",
            "Reading state information... Done\n",
            "chromium-chromedriver is already the newest version (91.0.4472.77-0ubuntu0.18.04.1).\n",
            "0 upgraded, 0 newly installed, 0 to remove and 48 not upgraded.\n",
            "Requirement already satisfied: selenium in /usr/local/lib/python3.7/dist-packages (3.141.0)\n",
            "Requirement already satisfied: urllib3 in /usr/local/lib/python3.7/dist-packages (from selenium) (1.24.3)\n",
            "cp: '/usr/lib/chromium-browser/chromedriver' and '/usr/bin/chromedriver' are the same file\n"
          ],
          "name": "stdout"
        }
      ]
    },
    {
      "cell_type": "code",
      "metadata": {
        "id": "kW3kTNcB6dji"
      },
      "source": [
        "chrome_options = webdriver.ChromeOptions()\n",
        "chrome_options.add_argument('--headless')\n",
        "chrome_options.add_argument('--no-sandbox')\n",
        "chrome_options.add_argument('--disable-dev-shm-usage')\n",
        "user_agent = \"Mozilla/5.0 (Windows NT 10.0; Win64; x64) AppleWebKit/537.36 (KHTML, like Gecko) Chrome/89.0.4389.128 Safari/537.36\"\n",
        "chrome_options.add_argument(\"user-agent=\"+ user_agent)"
      ],
      "execution_count": 32,
      "outputs": []
    },
    {
      "cell_type": "code",
      "metadata": {
        "id": "qgzX9qpl8fJu"
      },
      "source": [
        "def startDriver(uri):\n",
        "  wd = webdriver.Chrome('chromedriver',options=chrome_options)\n",
        "  wd.implicitly_wait(30) \n",
        "  wd.get(uri)\n",
        "  return wd\n",
        "\n",
        "def convertPrice(raw_num):\n",
        "  return float(raw_num[:-3].replace(',','.'))\n",
        "\n",
        "def splitDate(raw_date):\n",
        "  return raw_date.split(\": \")[1]\n",
        "\n",
        "target_path = {\n",
        "    \"product_name\"  : '//*[@id=\"product-detail-app\"]/div/div[2]/div[2]/div[1]/div[1]/div[1]/div[1]/h1/span',\n",
        "    \"price_org\"     : '//*[@id=\"product-detail-app\"]/div/div[2]/div[2]/div[1]/div[1]/div[1]/div[3]/div/div/span[1]',\n",
        "    \"price_slg\"     : '//*[@id=\"product-detail-app\"]/div/div[2]/div[2]/div[1]/div[1]/div[1]/div[3]/div/div/span[2]',\n",
        "    \"seller\"        : '//*[@id=\"product-detail-app\"]/div/div[2]/div[2]/div[3]/div[3]/ul/li[3]/span',\n",
        "    \"date\"          : '//*[@id=\"product-detail-app\"]/div/div[2]/div[2]/div[2]/div[5]/div[1]/div',\n",
        "    \"image\"         : '//*[@id=\"product-detail-app\"]/div/div[2]/div[1]/div/div[2]/div[1]/div/div/div/div/div/img'\n",
        "}\n",
        "\n",
        "def getData(driver):\n",
        "  product_name = driver.find_elements_by_xpath(target_path['product_name'])[0]\n",
        "  price_org = driver.find_elements_by_xpath(target_path['price_org'])[0]\n",
        "  price_org = convertPrice(price_org.get_attribute('innerHTML'))\n",
        "  price_slg = driver.find_elements_by_xpath(target_path['price_slg'])[0]\n",
        "  price_slg = convertPrice(price_slg.get_attribute('innerHTML'))\n",
        "  seller    = driver.find_elements_by_xpath(target_path['seller'])[0]\n",
        "  date      = driver.find_elements_by_xpath(target_path['date'])[0]\n",
        "  date      = splitDate(date.text)\n",
        "  \n",
        "\n",
        "  image     = driver.find_elements_by_xpath(target_path['image'])[0]\n",
        "  image     = image.get_attribute('src')\n",
        "  \n",
        "  \n",
        "\n",
        "  result =  {\n",
        "      'name': product_name.text,\n",
        "      'price_org': price_org,\n",
        "      'prive_slg': price_slg,\n",
        "      'seller': seller.text,\n",
        "      'date': date,\n",
        "      'image': image\n",
        "  }\n",
        "  driver.quit()\n",
        "  return result"
      ],
      "execution_count": 65,
      "outputs": []
    },
    {
      "cell_type": "code",
      "metadata": {
        "id": "M1bgdZDj9Usi"
      },
      "source": [
        "url = \"https://www.trendyol.com/duke-nickle/unisex-dikdortgen-gunes-gozlugu-dn1069sysyh-p-37196958\"\n",
        "webd = startDriver(url)"
      ],
      "execution_count": 66,
      "outputs": []
    },
    {
      "cell_type": "code",
      "metadata": {
        "colab": {
          "base_uri": "https://localhost:8080/"
        },
        "id": "V-Krk8Mx67Lx",
        "outputId": "a5bea412-021d-449a-9db7-c682054fb85b"
      },
      "source": [
        "getData(webd)"
      ],
      "execution_count": 67,
      "outputs": [
        {
          "output_type": "execute_result",
          "data": {
            "text/plain": [
              "{'date': '16 - 19 Haziran',\n",
              " 'image': 'https://cdn.dsmcdn.com/mnresize/415/622/ty100/product/media/images/20210406/17/d4b3c427/66132534/1/1_org_zoom.jpeg',\n",
              " 'name': 'Unisex Dikdörtgen Güneş Gözlüğü DN1069SYSYH',\n",
              " 'price_org': 139.9,\n",
              " 'prive_slg': 59.9,\n",
              " 'seller': 'Opsar Saat'}"
            ]
          },
          "metadata": {
            "tags": []
          },
          "execution_count": 67
        }
      ]
    }
  ]
}